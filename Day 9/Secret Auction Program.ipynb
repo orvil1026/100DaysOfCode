{
 "cells": [
  {
   "cell_type": "code",
   "execution_count": 6,
   "metadata": {},
   "outputs": [
    {
     "name": "stdout",
     "output_type": "stream",
     "text": [
      "\n",
      "                         ___________\n",
      "                         \\         /\n",
      "                          )_______(\n",
      "                          |\"\"\"\"\"\"\"|_.-._,.---------.,_.-._\n",
      "                          |       | | |               | | ''-.\n",
      "                          |       |_| |_             _| |_..-'\n",
      "                          |_______| '-' `'---------'` '-'\n",
      "                          )\"\"\"\"\"\"\"(\n",
      "                         /_________\\\n",
      "                       .-------------.\n",
      "                      /_______________\\\n",
      "\n",
      "Welcome to the Secret Auction Program!\n",
      "What is your name?orvil\n",
      "Enter your bid:100\n",
      "Are there any other bidders? yes or noyes\n",
      "What is your name?ram\n",
      "Enter your bid:89\n",
      "Are there any other bidders? yes or nono\n",
      "Winner is orvil\n"
     ]
    }
   ],
   "source": [
    "from IPython.display import clear_output\n",
    "\n",
    "\n",
    "logo = '''\n",
    "                         ___________\n",
    "                         \\         /\n",
    "                          )_______(\n",
    "                          |\"\"\"\"\"\"\"|_.-._,.---------.,_.-._\n",
    "                          |       | | |               | | ''-.\n",
    "                          |       |_| |_             _| |_..-'\n",
    "                          |_______| '-' `'---------'` '-'\n",
    "                          )\"\"\"\"\"\"\"(\n",
    "                         /_________\\\\\n",
    "                       .-------------.\n",
    "                      /_______________\\\\\n",
    "'''\n",
    "\n",
    "print(logo)\n",
    "\n",
    "print(\"Welcome to the Secret Auction Program!\")\n",
    "is_next=True\n",
    "bid_list={}\n",
    "while(is_next):\n",
    "    name=input(\"What is your name?\")\n",
    "    bid=int(input(\"Enter your bid:\"))\n",
    "    bid_list[name]=bid\n",
    "    \n",
    "    condition=input(\"Are there any other bidders? yes or no\").lower()\n",
    "    if condition=='no':\n",
    "        is_next=False\n",
    "    \n",
    "'''values_list=bid_list.values()\n",
    "max_bid=max(values_list)\n",
    "\n",
    "for key,value in bid_list.items():\n",
    "    if value==max_bid:\n",
    "        print(f\"The highest bidder is {key}\")'''\n",
    "highest_bid=0\n",
    "\n",
    "for bidder in bid_list:\n",
    "    \n",
    "    bid_amount=bid_list[bidder]\n",
    "    if bid_amount>highest_bid:\n",
    "        highest_bid=bid_amount\n",
    "        winner=bidder\n",
    "    \n",
    "print(f\"Winner is {winner}\")\n",
    "    \n"
   ]
  }
 ],
 "metadata": {
  "kernelspec": {
   "display_name": "Python 3",
   "language": "python",
   "name": "python3"
  },
  "language_info": {
   "codemirror_mode": {
    "name": "ipython",
    "version": 3
   },
   "file_extension": ".py",
   "mimetype": "text/x-python",
   "name": "python",
   "nbconvert_exporter": "python",
   "pygments_lexer": "ipython3",
   "version": "3.7.3"
  }
 },
 "nbformat": 4,
 "nbformat_minor": 4
}
