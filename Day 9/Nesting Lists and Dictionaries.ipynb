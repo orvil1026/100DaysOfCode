{
 "cells": [
  {
   "cell_type": "code",
   "execution_count": 2,
   "metadata": {},
   "outputs": [],
   "source": [
    "travel_log={\n",
    "    \"France\":{\"cities_visited\":[\"paris\",\"lille\",\"dijon\"],\"total_visits\":2},\n",
    "    \"India\":{\"cities_visited\":[\"maharashtra\",\"goa\",\"chennai\"],\"total_visits\":1}\n",
    "    \n",
    "}"
   ]
  },
  {
   "cell_type": "code",
   "execution_count": 3,
   "metadata": {},
   "outputs": [
    {
     "name": "stdout",
     "output_type": "stream",
     "text": [
      "{'France': {'cities_visited': ['paris', 'lille', 'dijon'], 'total_visits': 2}, 'India': {'cities_visited': ['maharashtra', 'goa', 'chennai'], 'total_visits': 1}}\n"
     ]
    }
   ],
   "source": [
    "print(travel_log)"
   ]
  },
  {
   "cell_type": "code",
   "execution_count": null,
   "metadata": {},
   "outputs": [],
   "source": [
    "#nesting dictionaries into a list\n",
    "\n",
    "travel_log2=[\n",
    "    {\n",
    "        \"country\":\"France\",\n",
    "        \"cities_visited\":[\"paris\",\"lille\",\"dijon\"],\n",
    "        \"total_visits\":2,\n",
    "    }\n",
    "    {\n",
    "        \"country\":\"India\",\n",
    "        \"cities_visited\":[\"maharashtra\",\"goa\",\"chennai\"],\n",
    "        \"total_visits\":1,\n",
    "        \n",
    "    }\n",
    "]"
   ]
  }
 ],
 "metadata": {
  "kernelspec": {
   "display_name": "Python 3",
   "language": "python",
   "name": "python3"
  },
  "language_info": {
   "codemirror_mode": {
    "name": "ipython",
    "version": 3
   },
   "file_extension": ".py",
   "mimetype": "text/x-python",
   "name": "python",
   "nbconvert_exporter": "python",
   "pygments_lexer": "ipython3",
   "version": "3.7.3"
  }
 },
 "nbformat": 4,
 "nbformat_minor": 4
}
