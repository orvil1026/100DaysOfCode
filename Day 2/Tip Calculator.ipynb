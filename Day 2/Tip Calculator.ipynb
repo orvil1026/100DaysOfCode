{
 "cells": [
  {
   "cell_type": "code",
   "execution_count": 2,
   "metadata": {},
   "outputs": [
    {
     "name": "stdout",
     "output_type": "stream",
     "text": [
      "Welcome to the Tip Calculator!!!\n",
      "What was the bill amount?124.56\n",
      "What percentage tip would you like to give?10 , 12 or 1512\n",
      "How many people to split bill into?7\n",
      "Each person should pay $19.93\n"
     ]
    }
   ],
   "source": [
    "print(\"Welcome to the Tip Calculator!!!\")\n",
    "total=float(input(\"What was the bill amount?\"))\n",
    "tipPercentage=int(input(\"What percentage tip would you like to give?10 , 12 or 15\"))\n",
    "people=int(input(\"How many people to split bill into?\"))\n",
    "\n",
    "bill=total+total*(tipPercentage/100)\n",
    "splitBill=round(bill/people,2)\n",
    "\n",
    "print(f\"Each person should pay ${splitBill}\")"
   ]
  }
 ],
 "metadata": {
  "kernelspec": {
   "display_name": "Python 3",
   "language": "python",
   "name": "python3"
  },
  "language_info": {
   "codemirror_mode": {
    "name": "ipython",
    "version": 3
   },
   "file_extension": ".py",
   "mimetype": "text/x-python",
   "name": "python",
   "nbconvert_exporter": "python",
   "pygments_lexer": "ipython3",
   "version": "3.7.3"
  }
 },
 "nbformat": 4,
 "nbformat_minor": 4
}
