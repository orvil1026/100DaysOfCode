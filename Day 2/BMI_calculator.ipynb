{
 "cells": [
  {
   "cell_type": "code",
   "execution_count": 4,
   "metadata": {},
   "outputs": [
    {
     "name": "stdout",
     "output_type": "stream",
     "text": [
      "Enter your height in m:1.4\n",
      "Enter your weight in kg:39\n",
      "Your height is 1.4 and your weight is 39.0 BMI:19.0\n"
     ]
    }
   ],
   "source": [
    "height=float(input(\"Enter your height in m:\"))\n",
    "weight=float(input(\"Enter your weight in kg:\"))\n",
    "\n",
    "bmi=weight//height**2\n",
    "print(f\"Your height is {height} and your weight is {weight} BMI:{bmi}\")"
   ]
  },
  {
   "cell_type": "code",
   "execution_count": null,
   "metadata": {},
   "outputs": [],
   "source": []
  },
  {
   "cell_type": "code",
   "execution_count": null,
   "metadata": {},
   "outputs": [],
   "source": []
  }
 ],
 "metadata": {
  "kernelspec": {
   "display_name": "Python 3",
   "language": "python",
   "name": "python3"
  },
  "language_info": {
   "codemirror_mode": {
    "name": "ipython",
    "version": 3
   },
   "file_extension": ".py",
   "mimetype": "text/x-python",
   "name": "python",
   "nbconvert_exporter": "python",
   "pygments_lexer": "ipython3",
   "version": "3.7.3"
  }
 },
 "nbformat": 4,
 "nbformat_minor": 4
}
