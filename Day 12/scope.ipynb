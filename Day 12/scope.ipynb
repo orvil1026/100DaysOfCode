{
 "cells": [
  {
   "cell_type": "code",
   "execution_count": 2,
   "metadata": {},
   "outputs": [
    {
     "name": "stdout",
     "output_type": "stream",
     "text": [
      "Enemies inside function :2\n",
      "Enemies outside function:1\n"
     ]
    }
   ],
   "source": [
    "enemies=1\n",
    "def increase_enemies():\n",
    "    enemies=2\n",
    "    print(f\"Enemies inside function :{enemies}\")\n",
    "    \n",
    "increase_enemies()\n",
    "print(f\"Enemies outside function:{enemies}\")"
   ]
  },
  {
   "cell_type": "code",
   "execution_count": 10,
   "metadata": {},
   "outputs": [
    {
     "name": "stdout",
     "output_type": "stream",
     "text": [
      "Enemies inside function :2\n",
      "Enemies outside function:2\n"
     ]
    }
   ],
   "source": [
    "global enemies\n",
    "enemies=1\n",
    "def increase_enemies():\n",
    "    global enemies\n",
    "    enemies=2\n",
    "    print(f\"Enemies inside function :{enemies}\")\n",
    "    \n",
    "increase_enemies()\n",
    "print(f\"Enemies outside function:{enemies}\")"
   ]
  },
  {
   "cell_type": "code",
   "execution_count": 11,
   "metadata": {},
   "outputs": [
    {
     "name": "stdout",
     "output_type": "stream",
     "text": [
      "3.14\n"
     ]
    }
   ],
   "source": [
    "global PI\n",
    "PI=3.14\n",
    "\n",
    "def calc():\n",
    "    \n",
    "    print(PI)\n",
    "\n",
    "calc()"
   ]
  }
 ],
 "metadata": {
  "kernelspec": {
   "display_name": "Python 3",
   "language": "python",
   "name": "python3"
  },
  "language_info": {
   "codemirror_mode": {
    "name": "ipython",
    "version": 3
   },
   "file_extension": ".py",
   "mimetype": "text/x-python",
   "name": "python",
   "nbconvert_exporter": "python",
   "pygments_lexer": "ipython3",
   "version": "3.7.3"
  }
 },
 "nbformat": 4,
 "nbformat_minor": 4
}
