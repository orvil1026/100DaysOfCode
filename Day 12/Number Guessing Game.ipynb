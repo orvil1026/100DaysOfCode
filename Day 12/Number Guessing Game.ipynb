{
 "cells": [
  {
   "cell_type": "code",
   "execution_count": 5,
   "metadata": {},
   "outputs": [
    {
     "name": "stdout",
     "output_type": "stream",
     "text": [
      "\n",
      "__________                  .___                _______               ___.                  \n",
      "\\______   _____    ____   __| _/____   _____    \\      \\  __ __  _____\\_ |__   ___________  \n",
      " |       _\\__  \\  /    \\ / __ |/  _ \\ /     \\   /   |   \\|  |  \\/     \\| __ \\_/ __ \\_  __ \\ \n",
      " |    |   \\/ __ \\|   |  / /_/ (  <_> |  Y Y  \\ /    |    |  |  |  Y Y  | \\_\\ \\  ___/|  | \\/ \n",
      " |____|_  (____  |___|  \\____ |\\____/|__|_|  / \\____|__  |____/|__|_|  |___  /\\___  |__|    \n",
      "        \\/     \\/     \\/     \\/            \\/          \\/            \\/    \\/     \\/        \n",
      "\n",
      "\n",
      "\n",
      "Welcome to the Number Guessing Game!\n",
      "I am thinking of a number between 1 to 100\n",
      "Select difficulty level(hard or easy):hard\n",
      "You have 5 to guess the number.\n",
      "Guess the number:50\n",
      "TOO LOW!!!\n",
      "You have 4 to guess the number.\n",
      "Guess the number:75\n",
      "TOO LOW!!!\n",
      "You have 3 to guess the number.\n",
      "Guess the number:90\n",
      "TOO HIGH!!\n",
      "You have 2 to guess the number.\n",
      "Guess the number:80\n",
      "TOO LOW!!!\n",
      "You have 1 to guess the number.\n",
      "Guess the number:85\n",
      "TOO LOW!!!\n",
      "The random number was 86\n"
     ]
    }
   ],
   "source": [
    "import random\n",
    "print('''\n",
    "__________                  .___                _______               ___.                  \n",
    "\\______   _____    ____   __| _/____   _____    \\      \\  __ __  _____\\_ |__   ___________  \n",
    " |       _\\__  \\  /    \\ / __ |/  _ \\ /     \\   /   |   \\|  |  \\/     \\| __ \\_/ __ \\_  __ \\ \n",
    " |    |   \\/ __ \\|   |  / /_/ (  <_> |  Y Y  \\ /    |    |  |  |  Y Y  | \\_\\ \\  ___/|  | \\/ \n",
    " |____|_  (____  |___|  \\____ |\\____/|__|_|  / \\____|__  |____/|__|_|  |___  /\\___  |__|    \n",
    "        \\/     \\/     \\/     \\/            \\/          \\/            \\/    \\/     \\/        \n",
    "\n",
    "\n",
    "''')\n",
    "print(\"Welcome to the Number Guessing Game!\")\n",
    "print(\"I am thinking of a number between 1 to 100\")\n",
    "difficulty=''\n",
    "difficulty=input(\"Select difficulty level(hard or easy):\").lower()\n",
    "\n",
    "rand_number=random.randint(0,100)\n",
    "\n",
    "if difficulty=='hard':\n",
    "    attempt=5\n",
    "elif difficulty=='easy':\n",
    "    attempt=10\n",
    "else:\n",
    "    print('Invalid input!')\n",
    "    \n",
    "while(attempt!=0):\n",
    "\n",
    "    print(f\"You have {attempt} to guess the number.\")\n",
    "    \n",
    "    guessed_no=int(input(\"Guess the number:\"))\n",
    "    \n",
    "    if guessed_no==rand_number:\n",
    "        print(\"You guessed the right number!\")\n",
    "        break\n",
    "    elif guessed_no>rand_number:\n",
    "        print(\"TOO HIGH!!\")\n",
    "    else:\n",
    "        print(\"TOO LOW!!!\")\n",
    "    attempt-=1\n",
    "    \n",
    "\n",
    "\n",
    "print(f\"The random number was {rand_number}\")\n",
    "\n"
   ]
  }
 ],
 "metadata": {
  "kernelspec": {
   "display_name": "Python 3",
   "language": "python",
   "name": "python3"
  },
  "language_info": {
   "codemirror_mode": {
    "name": "ipython",
    "version": 3
   },
   "file_extension": ".py",
   "mimetype": "text/x-python",
   "name": "python",
   "nbconvert_exporter": "python",
   "pygments_lexer": "ipython3",
   "version": "3.7.3"
  }
 },
 "nbformat": 4,
 "nbformat_minor": 4
}
