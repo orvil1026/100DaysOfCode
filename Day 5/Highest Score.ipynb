{
 "cells": [
  {
   "cell_type": "code",
   "execution_count": 4,
   "metadata": {},
   "outputs": [
    {
     "name": "stdout",
     "output_type": "stream",
     "text": [
      "Enter the list of scores:10 20 30 40 50\n",
      "The highest score in the class is 50\n"
     ]
    }
   ],
   "source": [
    "scores=input(\"Enter the list of scores:\").split()\n",
    "highest=scores[0]\n",
    "for i in range(1,len(scores)):\n",
    "    if scores[i]>highest:\n",
    "        highest=scores[i]\n",
    "    \n",
    "    \n",
    "    \n",
    "print(f\"The highest score in the class is {highest}\")"
   ]
  }
 ],
 "metadata": {
  "kernelspec": {
   "display_name": "Python 3",
   "language": "python",
   "name": "python3"
  },
  "language_info": {
   "codemirror_mode": {
    "name": "ipython",
    "version": 3
   },
   "file_extension": ".py",
   "mimetype": "text/x-python",
   "name": "python",
   "nbconvert_exporter": "python",
   "pygments_lexer": "ipython3",
   "version": "3.7.3"
  }
 },
 "nbformat": 4,
 "nbformat_minor": 4
}
