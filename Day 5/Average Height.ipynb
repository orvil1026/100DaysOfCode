{
 "cells": [
  {
   "cell_type": "code",
   "execution_count": 8,
   "metadata": {},
   "outputs": [
    {
     "name": "stdout",
     "output_type": "stream",
     "text": [
      "Enter the list of student heights:156 178 165 171 187\n",
      "171\n"
     ]
    }
   ],
   "source": [
    "student_heights=input(\"Enter the list of student heights:\").split()\n",
    "\n",
    "\n",
    "sum=0\n",
    "count=0\n",
    "for height in student_heights:\n",
    "    sum=sum+int(height)\n",
    "    count+=1\n",
    "average=sum//count\n",
    "\n",
    "print(average)\n"
   ]
  }
 ],
 "metadata": {
  "kernelspec": {
   "display_name": "Python 3",
   "language": "python",
   "name": "python3"
  },
  "language_info": {
   "codemirror_mode": {
    "name": "ipython",
    "version": 3
   },
   "file_extension": ".py",
   "mimetype": "text/x-python",
   "name": "python",
   "nbconvert_exporter": "python",
   "pygments_lexer": "ipython3",
   "version": "3.7.3"
  }
 },
 "nbformat": 4,
 "nbformat_minor": 4
}
