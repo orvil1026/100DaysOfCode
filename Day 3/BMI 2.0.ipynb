{
 "cells": [
  {
   "cell_type": "code",
   "execution_count": 2,
   "metadata": {},
   "outputs": [
    {
     "name": "stdout",
     "output_type": "stream",
     "text": [
      "Enter your height in m:1.75\n",
      "Enter your weight in kg:85\n",
      "Your BMI is 27.0, you are slightly over weight.\n"
     ]
    }
   ],
   "source": [
    "height=float(input(\"Enter your height in m:\"))\n",
    "weight=float(input(\"Enter your weight in kg:\"))\n",
    "\n",
    "bmi=weight//height**2\n",
    "\n",
    "if bmi<18.5:\n",
    "    print(f\"Your BMI is {bmi}, you are underweight.\")\n",
    "elif bmi>18.5 and bmi <25:\n",
    "    print(f\"Your BMI is {bmi}, you have normal weight.\")\n",
    "elif bmi>25 and bmi <30:\n",
    "    print(f\"Your BMI is {bmi}, you are slightly over weight.\")\n",
    "elif bmi>30 and bmi <35:\n",
    "    print(f\"Your BMI is {bmi}, you are obese.\")\n",
    "else:\n",
    "    print(f\"Your BMI is {bmi}, you are clinically obese.\")\n",
    "    "
   ]
  }
 ],
 "metadata": {
  "kernelspec": {
   "display_name": "Python 3",
   "language": "python",
   "name": "python3"
  },
  "language_info": {
   "codemirror_mode": {
    "name": "ipython",
    "version": 3
   },
   "file_extension": ".py",
   "mimetype": "text/x-python",
   "name": "python",
   "nbconvert_exporter": "python",
   "pygments_lexer": "ipython3",
   "version": "3.7.3"
  }
 },
 "nbformat": 4,
 "nbformat_minor": 4
}
