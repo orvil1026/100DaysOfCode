{
 "cells": [
  {
   "cell_type": "code",
   "execution_count": 5,
   "metadata": {},
   "outputs": [
    {
     "name": "stdout",
     "output_type": "stream",
     "text": [
      "Welcome to LOVE CALCULATOR!!!\n",
      "Enter the first name:Kanye West\n",
      "Enter the second name:Kim Kardashian\n",
      "Your score is 42, you are alright together.\n"
     ]
    }
   ],
   "source": [
    "\n",
    "print(\"Welcome to LOVE CALCULATOR!!!\")\n",
    "name1=input(\"Enter the first name:\")\n",
    "name2=input(\"Enter the second name:\")\n",
    "\n",
    "name=name1+name2\n",
    "name=name.lower()\n",
    "\n",
    "units=name.count(\"l\")+name.count(\"o\")+name.count(\"v\")+name.count(\"e\")\n",
    "tens=name.count(\"t\")+name.count(\"r\")+name.count(\"u\")+name.count(\"e\")\n",
    "score=tens*10+units\n",
    "if score <10 or score>90:\n",
    "    print(f\"Your score is {score}, you go together like coke and mentos.\")\n",
    "elif score>40 and score <50:\n",
    "    print(f\"Your score is {score}, you are alright together.\")\n",
    "else:\n",
    "    print(f\"Your score is {score}\")"
   ]
  }
 ],
 "metadata": {
  "kernelspec": {
   "display_name": "Python 3",
   "language": "python",
   "name": "python3"
  },
  "language_info": {
   "codemirror_mode": {
    "name": "ipython",
    "version": 3
   },
   "file_extension": ".py",
   "mimetype": "text/x-python",
   "name": "python",
   "nbconvert_exporter": "python",
   "pygments_lexer": "ipython3",
   "version": "3.7.3"
  }
 },
 "nbformat": 4,
 "nbformat_minor": 4
}
