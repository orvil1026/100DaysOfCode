{
 "cells": [
  {
   "cell_type": "code",
   "execution_count": 6,
   "metadata": {},
   "outputs": [
    {
     "name": "stdout",
     "output_type": "stream",
     "text": [
      "\n",
      "\n",
      "\n",
      "\n",
      "\n",
      "\n",
      "                                   /                              /\\  //\\\n",
      "                       /\\    //\\///\\\\        /                      //\\  ///\\////\\\\  /\\  //\\\n",
      "         /\\          /  ^ \\/^ ^/^  ^  ^ \\/^ \\/  ^         / ^\\    /\\  / ^   /  ^/ ^ ^ ^   ^\\ ^/  ^^         /^   \\  / ^\\/ ^ ^   ^ / ^  ^    ^  \\/ ^   ^  \\       *\n",
      "      /  ^ ^ \\/^  ^\\ ^ ^ ^   ^  ^   ^   ____  ^   ^  \\     /|     / ^ ^  ^ \\ ^  _\\___________________|  |_____^ ^  \\   /||o    / ^^  ^ ^ ^\\  /______________________________\\ ^ ^ \\ /|o|||   /  ^  ^^ ^ ^  /________________________________\\  ^  /|||||o|  /^ ^  ^ ^^  ^    ||___|___||||||||||||___|__|||      /||o||||||\\       |\n",
      " / ^   ^   ^    ^  ||___|___||||||||||||___|__|||          | |           |\n",
      "/ ^ ^ ^  ^  ^  ^   ||||||||||||||||||||||||||||||oooooooooo| |ooooooo  |\n",
      "ooooooooooooooooooooooooooooooooooooooooooooooooooooooooo\n",
      "\n",
      "\n",
      "Welcome to the treasure island \n",
      " Your mission is to find the treasure!\n",
      "left or right?left\n",
      "Swim or wait?wait\n",
      "Which door? red, white or bluered\n",
      "You win!\n"
     ]
    }
   ],
   "source": [
    "print(\"\"\"\n",
    "\n",
    "\n",
    "\n",
    "\n",
    "\n",
    "                                   /\\\n",
    "                              /\\  //\\\\\n",
    "                       /\\    //\\\\///\\\\\\        /\\\n",
    "                      //\\\\  ///\\////\\\\\\\\  /\\  //\\\\\n",
    "         /\\          /  ^ \\/^ ^/^  ^  ^ \\/^ \\/  ^ \\\n",
    "        / ^\\    /\\  / ^   /  ^/ ^ ^ ^   ^\\ ^/  ^^  \\\n",
    "       /^   \\  / ^\\/ ^ ^   ^ / ^  ^    ^  \\/ ^   ^  \\       *\n",
    "      /  ^ ^ \\/^  ^\\ ^ ^ ^   ^  ^   ^   ____  ^   ^  \\     /|\\\n",
    "     / ^ ^  ^ \\ ^  _\\___________________|  |_____^ ^  \\   /||o\\\n",
    "    / ^^  ^ ^ ^\\  /______________________________\\ ^ ^ \\ /|o|||\\\n",
    "   /  ^  ^^ ^ ^  /________________________________\\  ^  /|||||o|\\\n",
    "  /^ ^  ^ ^^  ^    ||___|___||||||||||||___|__|||      /||o||||||\\       |\n",
    " / ^   ^   ^    ^  ||___|___||||||||||||___|__|||          | |           |\n",
    "/ ^ ^ ^  ^  ^  ^   ||||||||||||||||||||||||||||||oooooooooo| |ooooooo  |\n",
    "ooooooooooooooooooooooooooooooooooooooooooooooooooooooooo\n",
    "\n",
    "\"\"\")\n",
    "\n",
    "print(\"Welcome to the treasure island \\n Your mission is to find the treasure!\")\n",
    "\n",
    "direction=input(\"left or right?\").lower()\n",
    "\n",
    "if direction=='left':\n",
    "    \n",
    "    choice=input(\"Swim or wait?\").lower()\n",
    "    \n",
    "    if choice=='wait':\n",
    "        door=input('Which door? red, white or blue').lower()\n",
    "        \n",
    "        if door==\"red\":\n",
    "            print(\"You win!\")\n",
    "        else:\n",
    "            print(\"Game over!\")\n",
    "    else:\n",
    "        print(\"Game over!\")\n",
    "else:\n",
    "    print(\"Game over!\")\n"
   ]
  },
  {
   "cell_type": "code",
   "execution_count": null,
   "metadata": {},
   "outputs": [],
   "source": []
  }
 ],
 "metadata": {
  "kernelspec": {
   "display_name": "Python 3",
   "language": "python",
   "name": "python3"
  },
  "language_info": {
   "codemirror_mode": {
    "name": "ipython",
    "version": 3
   },
   "file_extension": ".py",
   "mimetype": "text/x-python",
   "name": "python",
   "nbconvert_exporter": "python",
   "pygments_lexer": "ipython3",
   "version": "3.7.3"
  }
 },
 "nbformat": 4,
 "nbformat_minor": 4
}
