{
 "cells": [
  {
   "cell_type": "code",
   "execution_count": 4,
   "metadata": {},
   "outputs": [
    {
     "name": "stdout",
     "output_type": "stream",
     "text": [
      "Welcome to Pizza Deliveries!!\n",
      "What size pizza do you want? S, M, or L L\n",
      "Do you want pepperoni? Y or N Y\n",
      "Do you want extra cheese? Y or N N\n",
      "Bill is 28\n"
     ]
    }
   ],
   "source": [
    "print(\"Welcome to Pizza Deliveries!!\")\n",
    "\n",
    "size = input(\"What size pizza do you want? S, M, or L \")\n",
    "add_pepperoni = input(\"Do you want pepperoni? Y or N \")\n",
    "extra_cheese = input(\"Do you want extra cheese? Y or N \")\n",
    "bill=0\n",
    "if extra_cheese==\"Y\":\n",
    "    bill+=1\n",
    "\n",
    "\n",
    "if size==\"S\":\n",
    "    bill+=15\n",
    "    if add_pepperoni==\"Y\":\n",
    "        bill+=2\n",
    "        \n",
    "        \n",
    "elif size==\"M\":\n",
    "    bill+=20\n",
    "    if add_pepperoni==\"Y\":\n",
    "        bill+=3\n",
    "        \n",
    "elif size==\"L\":\n",
    "    bill+=25\n",
    "    if add_pepperoni==\"Y\":\n",
    "        bill+=3\n",
    "else:\n",
    "    print(\"Wrong choice.\")\n",
    "\n",
    "print(f\"Bill is {bill}\")"
   ]
  }
 ],
 "metadata": {
  "kernelspec": {
   "display_name": "Python 3",
   "language": "python",
   "name": "python3"
  },
  "language_info": {
   "codemirror_mode": {
    "name": "ipython",
    "version": 3
   },
   "file_extension": ".py",
   "mimetype": "text/x-python",
   "name": "python",
   "nbconvert_exporter": "python",
   "pygments_lexer": "ipython3",
   "version": "3.7.3"
  }
 },
 "nbformat": 4,
 "nbformat_minor": 4
}
