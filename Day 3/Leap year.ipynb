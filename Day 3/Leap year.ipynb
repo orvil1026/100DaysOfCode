{
 "cells": [
  {
   "cell_type": "code",
   "execution_count": 12,
   "metadata": {},
   "outputs": [
    {
     "name": "stdout",
     "output_type": "stream",
     "text": [
      "Enter the year:1900\n",
      "Year is not an leap year.\n"
     ]
    }
   ],
   "source": [
    "year=int(input(\"Enter the year:\"))\n",
    "\n",
    "if year%4==0:\n",
    "    \n",
    "    if year%100!=0 and year%400==0:\n",
    "        print(\"Year is an leap year.\")\n",
    "    elif year%100==0:\n",
    "        print(\"Year is not an leap year.\")\n",
    "    else:\n",
    "        print(\"Year is an leap year.\")    \n",
    "else:\n",
    "    print(\"Year is not an leap year.\")"
   ]
  }
 ],
 "metadata": {
  "kernelspec": {
   "display_name": "Python 3",
   "language": "python",
   "name": "python3"
  },
  "language_info": {
   "codemirror_mode": {
    "name": "ipython",
    "version": 3
   },
   "file_extension": ".py",
   "mimetype": "text/x-python",
   "name": "python",
   "nbconvert_exporter": "python",
   "pygments_lexer": "ipython3",
   "version": "3.7.3"
  }
 },
 "nbformat": 4,
 "nbformat_minor": 4
}
