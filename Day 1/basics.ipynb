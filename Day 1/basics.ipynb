{
 "cells": [
  {
   "cell_type": "code",
   "execution_count": 1,
   "metadata": {},
   "outputs": [
    {
     "name": "stdout",
     "output_type": "stream",
     "text": [
      "Enter your name:orvil\n",
      "hello orvil\n"
     ]
    }
   ],
   "source": [
    "print(\"hello \"+input(\"Enter your name:\"))"
   ]
  },
  {
   "cell_type": "code",
   "execution_count": 3,
   "metadata": {},
   "outputs": [
    {
     "name": "stdout",
     "output_type": "stream",
     "text": [
      "Enter your name:orvil\n",
      "5\n"
     ]
    }
   ],
   "source": [
    "#Write a program that prints the number of characters in a user's name.\n",
    "\n",
    "\n",
    "name=input(\"Enter your name:\")\n",
    "print(len(name))"
   ]
  },
  {
   "cell_type": "code",
   "execution_count": 5,
   "metadata": {},
   "outputs": [
    {
     "name": "stdout",
     "output_type": "stream",
     "text": [
      "Enter your name:orvil \n",
      "6\n"
     ]
    }
   ],
   "source": [
    "print(len(input(\"Enter your name:\")))"
   ]
  },
  {
   "cell_type": "code",
   "execution_count": 6,
   "metadata": {},
   "outputs": [
    {
     "name": "stdout",
     "output_type": "stream",
     "text": [
      "a:10\n",
      "b:20\n",
      "a:20\n",
      "b:10\n"
     ]
    }
   ],
   "source": [
    "a=input(\"a:\")\n",
    "b=input(\"b:\")\n",
    "\n",
    "a,b=b,a\n",
    "\n",
    "print(\"a:\"+a)\n",
    "print(\"b:\"+b)"
   ]
  },
  {
   "cell_type": "code",
   "execution_count": null,
   "metadata": {},
   "outputs": [],
   "source": []
  }
 ],
 "metadata": {
  "kernelspec": {
   "display_name": "Python 3",
   "language": "python",
   "name": "python3"
  },
  "language_info": {
   "codemirror_mode": {
    "name": "ipython",
    "version": 3
   },
   "file_extension": ".py",
   "mimetype": "text/x-python",
   "name": "python",
   "nbconvert_exporter": "python",
   "pygments_lexer": "ipython3",
   "version": "3.7.3"
  }
 },
 "nbformat": 4,
 "nbformat_minor": 4
}
