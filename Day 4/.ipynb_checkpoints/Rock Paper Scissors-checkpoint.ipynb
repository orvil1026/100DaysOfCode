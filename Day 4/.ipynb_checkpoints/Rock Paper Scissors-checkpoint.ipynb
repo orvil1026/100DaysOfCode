{
 "cells": [
  {
   "cell_type": "code",
   "execution_count": 6,
   "metadata": {},
   "outputs": [
    {
     "name": "stdout",
     "output_type": "stream",
     "text": [
      "What do you choose? 0 for Rock , 1 for paper and 2 for scissors1\n",
      "\n",
      "    _______\n",
      "---'   ____)____\n",
      "          ______)\n",
      "          _______)\n",
      "         _______)\n",
      "---.__________)\n",
      "\n",
      "Computer chose:\n",
      "\n",
      "\n",
      "    _______\n",
      "---'   ____)\n",
      "      (_____)\n",
      "      (_____)\n",
      "      (____)\n",
      "---.__(___)\n",
      "\n",
      "YOU WIN\n"
     ]
    }
   ],
   "source": [
    "#rock =0 paper=1 scissors=2\n",
    "import random\n",
    "rock = '''\n",
    "    _______\n",
    "---'   ____)\n",
    "      (_____)\n",
    "      (_____)\n",
    "      (____)\n",
    "---.__(___)\n",
    "'''\n",
    "\n",
    "paper = '''\n",
    "    _______\n",
    "---'   ____)____\n",
    "          ______)\n",
    "          _______)\n",
    "         _______)\n",
    "---.__________)\n",
    "'''\n",
    "\n",
    "scissors = '''\n",
    "    _______\n",
    "---'   ____)____\n",
    "          ______)\n",
    "       __________)\n",
    "      (____)\n",
    "---.__(___)\n",
    "'''\n",
    "\n",
    "computer=random.randint(0,2)\n",
    "user=int(input(\"What do you choose? 0 for Rock , 1 for paper and 2 for scissors\"))\n",
    "\n",
    "if user==0:\n",
    "    print(rock)\n",
    "elif user==1:\n",
    "    print(paper)\n",
    "elif user==2:\n",
    "    print(scissors)\n",
    "else:\n",
    "    print(\"Invalid input\")\n",
    "\n",
    "print(\"Computer chose:\\n\")\n",
    "if computer==0:\n",
    "    print(rock)\n",
    "elif computer==1:\n",
    "    print(paper)\n",
    "elif computer==2:\n",
    "    print(scissors)\n",
    "else:\n",
    "    print(\"Invalid input\")\n",
    "    \n",
    "if computer==user:\n",
    "    print(\"Draw!!\")\n",
    "elif (user==0 and computer==2) or (user==1 and computer==0) or (user==2 and computer==1):\n",
    "    print(\"YOU WIN\")\n",
    "else:\n",
    "    print(\"YOU LOSE\")"
   ]
  }
 ],
 "metadata": {
  "kernelspec": {
   "display_name": "Python 3",
   "language": "python",
   "name": "python3"
  },
  "language_info": {
   "codemirror_mode": {
    "name": "ipython",
    "version": 3
   },
   "file_extension": ".py",
   "mimetype": "text/x-python",
   "name": "python",
   "nbconvert_exporter": "python",
   "pygments_lexer": "ipython3",
   "version": "3.7.3"
  }
 },
 "nbformat": 4,
 "nbformat_minor": 4
}
