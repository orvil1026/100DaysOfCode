{
 "cells": [
  {
   "cell_type": "code",
   "execution_count": 8,
   "metadata": {},
   "outputs": [
    {
     "name": "stdout",
     "output_type": "stream",
     "text": [
      "Enter the names:Ram,sham,david,james,rooney,allison\n",
      "sham is going to pay the bill.\n"
     ]
    }
   ],
   "source": [
    "import random\n",
    "names_string=input(\"Enter the names:\")\n",
    "names=names_string.split(\",\")\n",
    "\n",
    "random_name=names[random.randint(0,len(names)-1)]\n",
    "print(f\"{random_name} is going to pay the bill.\")"
   ]
  },
  {
   "cell_type": "code",
   "execution_count": 9,
   "metadata": {},
   "outputs": [
    {
     "name": "stdout",
     "output_type": "stream",
     "text": [
      "Enter the names:ram,sham,david,james,rooney,allison\n",
      "ram is going to pay the bill.\n"
     ]
    }
   ],
   "source": [
    "#alternative way\n",
    "\n",
    "names_string=input(\"Enter the names:\")\n",
    "names=names_string.split(\",\")\n",
    "\n",
    "random_name=random.choice(names)\n",
    "print(f\"{random_name} is going to pay the bill.\")\n"
   ]
  }
 ],
 "metadata": {
  "kernelspec": {
   "display_name": "Python 3",
   "language": "python",
   "name": "python3"
  },
  "language_info": {
   "codemirror_mode": {
    "name": "ipython",
    "version": 3
   },
   "file_extension": ".py",
   "mimetype": "text/x-python",
   "name": "python",
   "nbconvert_exporter": "python",
   "pygments_lexer": "ipython3",
   "version": "3.7.3"
  }
 },
 "nbformat": 4,
 "nbformat_minor": 4
}
