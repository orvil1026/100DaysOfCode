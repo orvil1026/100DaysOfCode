{
 "cells": [
  {
   "cell_type": "code",
   "execution_count": 7,
   "metadata": {},
   "outputs": [
    {
     "name": "stdout",
     "output_type": "stream",
     "text": [
      "Check this number: 3\n",
      "3 is a prime number.\n"
     ]
    }
   ],
   "source": [
    "def prime_checker(number):\n",
    "    \n",
    "    for i in range(2,number):\n",
    "        \n",
    "        if number%i==0:\n",
    "            print(f\"{number} is not a prime number.\")\n",
    "            return\n",
    "    print(f\"{number} is a prime number.\")    \n",
    "\n",
    "\n",
    "n = int(input(\"Check this number: \"))\n",
    "\n",
    "prime_checker(number=n)\n"
   ]
  }
 ],
 "metadata": {
  "kernelspec": {
   "display_name": "Python 3",
   "language": "python",
   "name": "python3"
  },
  "language_info": {
   "codemirror_mode": {
    "name": "ipython",
    "version": 3
   },
   "file_extension": ".py",
   "mimetype": "text/x-python",
   "name": "python",
   "nbconvert_exporter": "python",
   "pygments_lexer": "ipython3",
   "version": "3.7.3"
  }
 },
 "nbformat": 4,
 "nbformat_minor": 4
}
